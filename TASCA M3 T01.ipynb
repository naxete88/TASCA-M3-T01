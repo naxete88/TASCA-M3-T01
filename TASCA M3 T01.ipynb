{
 "cells": [
  {
   "cell_type": "markdown",
   "id": "e721a829",
   "metadata": {},
   "source": [
    "### Exercici 1\n",
    "#### Crea una funció que donat un Array d’una dimensió, et faci un resum estadístic bàsic de les dades. Si detecta que l’array té més d’una dimensió, ha de mostrar un missatge d’error."
   ]
  },
  {
   "cell_type": "code",
   "execution_count": 4,
   "id": "29179ffa",
   "metadata": {},
   "outputs": [
    {
     "name": "stdout",
     "output_type": "stream",
     "text": [
      "[95 81 52 91 70 64]\n",
      "el promig és: 75.5 la mediana és: 75.5 el minim és: 52 el maxim és: 95 i la desviació típica és: 15.0858653491715\n"
     ]
    }
   ],
   "source": [
    "import numpy as np\n",
    "from numpy import random\n",
    "\n",
    "# defineixo array\n",
    "\n",
    "def array():\n",
    "    array = random.randint(100, size=(6))\n",
    "    return(array)\n",
    "\n",
    "# comprobo dimensió i faig resum estadístic\n",
    "\n",
    "def resum(arr):\n",
    "    if arr.ndim != 1:     \n",
    "        print('error')\n",
    "    else:\n",
    "        promig = np.mean(arr)\n",
    "        mediana = np.median(arr)\n",
    "        minim = np.min(arr)\n",
    "        maxim = np.max(arr)\n",
    "        desv = np.std(arr)\n",
    "        print('el promig és:',promig,'la mediana és:',mediana,'el minim és:',minim,'el maxim és:',maxim,'i la desviació típica és:',desv,)\n",
    "\n",
    "# crido funcions\n",
    "\n",
    "arr = array()\n",
    "print(arr)     \n",
    "resum(arr)"
   ]
  },
  {
   "cell_type": "code",
   "execution_count": 13,
   "id": "0cdaa8d5",
   "metadata": {},
   "outputs": [
    {
     "name": "stdout",
     "output_type": "stream",
     "text": [
      "error\n"
     ]
    }
   ],
   "source": [
    "import numpy as np\n",
    "from numpy import random\n",
    "\n",
    "# defineixo array de més de 1 D per forçar error\n",
    "\n",
    "arr = np.array([[2,4],[6,8]])\n",
    "\n",
    "# comprobo dimensió i faig resum estadístic\n",
    "\n",
    "def resum(arr):\n",
    "    if arr.ndim != 1:     \n",
    "        print('error')\n",
    "    else:\n",
    "        promig = np.mean(arr)\n",
    "        mediana = np.median(arr)\n",
    "        minim = np.min(arr)\n",
    "        maxim = np.max(arr)\n",
    "        print('el promig és:',promig,'la mediana és:',mediana,'el minim és:',minim,'el maxim és:',maxim)\n",
    "\n",
    "# crido funcions\n",
    "\n",
    "resum(arr)"
   ]
  },
  {
   "cell_type": "markdown",
   "id": "a47c1868",
   "metadata": {},
   "source": [
    "### Exercici 2\n",
    "#### Crea una funció que et generi un quadrat NxN de nombres aleatoris entre el 0 i el 100."
   ]
  },
  {
   "cell_type": "code",
   "execution_count": 2,
   "id": "f43e3b7a",
   "metadata": {},
   "outputs": [
    {
     "name": "stdout",
     "output_type": "stream",
     "text": [
      "Introdueix un número: 3\n",
      "[[78 35  8]\n",
      " [ 0 86 87]\n",
      " [92 32 28]]\n"
     ]
    }
   ],
   "source": [
    "from numpy import random\n",
    "\n",
    "# demano el número del quadrat\n",
    "\n",
    "n = int(input(\"Introdueix un número: \"))\n",
    "\n",
    "# faig la matriu\n",
    "\n",
    "def matriu(n):\n",
    "    quadrat = random.randint(100, size=(n,n))\n",
    "    print(quadrat)\n",
    "\n",
    "# crido la matriu\n",
    "\n",
    "matriu(n)"
   ]
  },
  {
   "cell_type": "markdown",
   "id": "e9ca9a85",
   "metadata": {},
   "source": [
    "### Exercici 3\n",
    "#### Crea una funció que donada una taula de dues dimensions (NxM), et calculi els totals per fila i els totals per columna."
   ]
  },
  {
   "cell_type": "code",
   "execution_count": 3,
   "id": "1c5b2b50",
   "metadata": {},
   "outputs": [
    {
     "name": "stdout",
     "output_type": "stream",
     "text": [
      "Introdueix número files: 2\n",
      "Introdueix número columnes: 4\n",
      "[[23 60 23 24]\n",
      " [ 2 64  6  9]]\n",
      "el total per fila és [130, 81]\n",
      "el total per columna és [25, 124, 29, 33]\n"
     ]
    }
   ],
   "source": [
    "from numpy import random\n",
    "import numpy as np\n",
    "\n",
    "# demano dades\n",
    "\n",
    "n = int(input(\"Introdueix número files: \" ))\n",
    "m = int(input(\"Introdueix número columnes: \"))\n",
    "\n",
    "# omplo la matriu amb números aleatoris\n",
    "\n",
    "quadrat = random.randint(100, size=(n,m))\n",
    "print(quadrat)\n",
    "\n",
    "# defineixo funció\n",
    "\n",
    "def sumes(n,m,matriu):\n",
    "    \n",
    "    suma_files = []\n",
    "    \n",
    "    for n in quadrat:\n",
    "        suma_files.append(sum(n))\n",
    "    print('el total per fila és',suma_files)\n",
    "    \n",
    "    suma_columnes = []\n",
    "    quadrat_invers = np.transpose(quadrat)\n",
    "    for m in quadrat_invers:\n",
    "        suma_columnes.append(sum(m))\n",
    "    print('el total per columna és',suma_columnes)\n",
    "\n",
    "# crido funció\n",
    "\n",
    "sumes(n,m,quadrat)"
   ]
  },
  {
   "cell_type": "markdown",
   "id": "af0cdb1b",
   "metadata": {},
   "source": [
    "### Exercici 4\n",
    "#### Implementa manualment una funció que calculi el coeficient de correlació. Informa-te'n sobre els seus usos i interpretació."
   ]
  },
  {
   "cell_type": "code",
   "execution_count": 10,
   "id": "b9305d4a",
   "metadata": {},
   "outputs": [
    {
     "name": "stdout",
     "output_type": "stream",
     "text": [
      "el coeficient de correlació és : -0.21176523722750193\n",
      "comprovem amb la matriu: \n",
      " [[ 1.         -0.21176524]\n",
      " [-0.21176524  1.        ]]\n"
     ]
    }
   ],
   "source": [
    "import numpy as np\n",
    "\n",
    "# defineixo dues arrays aleatòries:\n",
    "\n",
    "x = np.random.randint(100, size=(20))\n",
    "y = np.random.randint(100, size=(20))\n",
    "\n",
    "# defineixo funció de coeficient de correlació:\n",
    "\n",
    "def coef_corr(x,y):\n",
    "    mean_x = x.mean()\n",
    "    mean_y = y.mean()\n",
    "    num = np.sum((x-mean_x)*(y- mean_y))\n",
    "    den = np.sqrt(np.sum(np.power(x-mean_x, 2)) * np.sum(np.power(y-mean_y, 2)))\n",
    "    coef = num/den\n",
    "    return coef\n",
    "\n",
    "# crido funció y comprobo amb la matriu\n",
    "\n",
    "coef_corr_1 = coef_corr(x,y)\n",
    "print('el coeficient de correlació és :',coef_corr_1)\n",
    "pearsons_coefficient = np.corrcoef(x,y)\n",
    "print('comprovem amb la matriu: \\n',pearsons_coefficient)"
   ]
  }
 ],
 "metadata": {
  "kernelspec": {
   "display_name": "Python 3 (ipykernel)",
   "language": "python",
   "name": "python3"
  },
  "language_info": {
   "codemirror_mode": {
    "name": "ipython",
    "version": 3
   },
   "file_extension": ".py",
   "mimetype": "text/x-python",
   "name": "python",
   "nbconvert_exporter": "python",
   "pygments_lexer": "ipython3",
   "version": "3.9.12"
  }
 },
 "nbformat": 4,
 "nbformat_minor": 5
}
